{
  "nbformat": 4,
  "nbformat_minor": 0,
  "metadata": {
    "colab": {
      "provenance": [],
      "mount_file_id": "1Jgo8OSDUyjzCrluDhABhBpooYa9n6p5D",
      "authorship_tag": "ABX9TyMmieL9IIqloMTIUTVZthMk",
      "include_colab_link": true
    },
    "kernelspec": {
      "name": "python3",
      "display_name": "Python 3"
    },
    "language_info": {
      "name": "python"
    }
  },
  "cells": [
    {
      "cell_type": "markdown",
      "metadata": {
        "id": "view-in-github",
        "colab_type": "text"
      },
      "source": [
        "<a href=\"https://colab.research.google.com/github/raju1207/Multiple-Disease-Prediction-Analysis/blob/main/Multiple_Disease_Prediction_Analysis.ipynb\" target=\"_parent\"><img src=\"https://colab.research.google.com/assets/colab-badge.svg\" alt=\"Open In Colab\"/></a>"
      ]
    },
    {
      "cell_type": "code",
      "execution_count": 2,
      "metadata": {
        "id": "_s6tijOU-U4d"
      },
      "outputs": [],
      "source": [
        "import pandas as pd\n",
        "import numpy as np\n",
        "import seaborn as sns\n",
        "import matplotlib.pyplot as plt"
      ]
    },
    {
      "cell_type": "code",
      "source": [
        "from google.colab import drive\n",
        "drive.mount(\"/content/drive\")"
      ],
      "metadata": {
        "colab": {
          "base_uri": "https://localhost:8080/"
        },
        "id": "1PgrheyhA-B7",
        "outputId": "e98d49bc-8eeb-4dc6-8639-40b9cde0b62f"
      },
      "execution_count": 10,
      "outputs": [
        {
          "output_type": "stream",
          "name": "stdout",
          "text": [
            "Drive already mounted at /content/drive; to attempt to forcibly remount, call drive.mount(\"/content/drive\", force_remount=True).\n"
          ]
        }
      ]
    },
    {
      "cell_type": "code",
      "source": [
        "Parkinsons_Data = pd.read_excel('parkinsons.xlsx')\n",
        "Kidney_Disease_Data = pd.read_excel('kidney_disease.xlsx')\n",
        "Liver_Patient_Data = pd.read_excel('indian_liver_patient.xlsx')"
      ],
      "metadata": {
        "id": "kPfNcR5_Br1D"
      },
      "execution_count": 15,
      "outputs": []
    },
    {
      "cell_type": "code",
      "source": [],
      "metadata": {
        "id": "7KZ-eqC3Clhz"
      },
      "execution_count": null,
      "outputs": []
    }
  ]
}